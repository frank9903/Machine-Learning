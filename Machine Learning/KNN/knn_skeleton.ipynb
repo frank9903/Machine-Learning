{
  "nbformat": 4,
  "nbformat_minor": 0,
  "metadata": {
    "colab": {
      "name": "cs480_fall20_asst1_knn_skeleton.ipynb",
      "provenance": [],
      "collapsed_sections": []
    },
    "kernelspec": {
      "display_name": "Python 3",
      "language": "python",
      "name": "python3"
    },
    "language_info": {
      "codemirror_mode": {
        "name": "ipython",
        "version": 3
      },
      "file_extension": ".py",
      "mimetype": "text/x-python",
      "name": "python",
      "nbconvert_exporter": "python",
      "pygments_lexer": "ipython3",
      "version": "3.7.0"
    }
  },
  "cells": [
    {
      "cell_type": "markdown",
      "metadata": {
        "id": "JFXZug066bJX"
      },
      "source": [
        "# Upload files in Google Colab\n",
        "If you are running this Jupyter Notebook on Google Colab, run this cell to upload the data files (train_inputs.csv, train_labels.csv, test_inputs.csv, test_labels.csv) in the Colab virtual machine.  You will be prompted to select files that you would like to upload. \n",
        "\n",
        "If you are running this Jupyter Notebook on your computer, you do not need to run this cell."
      ]
    },
    {
      "cell_type": "code",
      "metadata": {
        "id": "dqBJV_Br4XeI"
      },
      "source": [
        "from google.colab import files\n",
        "uploaded = files.upload()\n",
        "%ls"
      ],
      "execution_count": null,
      "outputs": []
    },
    {
      "cell_type": "markdown",
      "metadata": {
        "id": "LZDpxE4jmFwA"
      },
      "source": [
        "# Import libraries \n",
        "Do not use any other Python library."
      ]
    },
    {
      "cell_type": "code",
      "metadata": {
        "id": "m_1d0BPfmacB"
      },
      "source": [
        "import numpy as np\n",
        "import matplotlib.pyplot as plt"
      ],
      "execution_count": null,
      "outputs": []
    },
    {
      "cell_type": "markdown",
      "metadata": {
        "id": "NYesJygrmgHM"
      },
      "source": [
        "# Function: load_knn_data\n",
        "\n",
        "This function loads the data for KNN from a local drive into RAM\n",
        "\n",
        "Outputs:\n",
        "\n",
        "*   **train_inputs**: numpy array of N training data points x M features\n",
        "*   **train_labels**: numpy array of N training labels\n",
        "*   **test_inputs**: numpy array of N' test data points x M features\n",
        "*   **test_labels**: numpy array of N' test labels\n",
        "\n",
        "\n",
        "\n",
        "\n",
        "  \n",
        "\n"
      ]
    },
    {
      "cell_type": "code",
      "metadata": {
        "id": "7goFIgwnomoo"
      },
      "source": [
        "def load_knn_data():\n",
        "    test_inputs = np.genfromtxt('test_inputs.csv', delimiter=',')\n",
        "    test_labels = np.genfromtxt('test_labels.csv', delimiter=',')\n",
        "    train_inputs = np.genfromtxt('train_inputs.csv', delimiter=',')\n",
        "    train_labels = np.genfromtxt('train_labels.csv', delimiter=',')\n",
        "    return train_inputs, train_labels, test_inputs, test_labels"
      ],
      "execution_count": null,
      "outputs": []
    },
    {
      "cell_type": "markdown",
      "metadata": {
        "id": "Y87Mnf21owf0"
      },
      "source": [
        "# Function: predict_knn\n",
        "\n",
        "This function uses the KNN classifier to predict the label of a data point.\n",
        "\n",
        "Inputs:\n",
        "*   **x**: input data point for which we want to predict the label (numpy array of M features)\n",
        "*   **inputs**: matrix of data points in which neighbours will be found (numpy array of N data points x M features)\n",
        "*   **labels**: vector of labels associated with the data points  (numpy array of N labels)\n",
        "*   **k_neighbours**: # of nearest neighbours that will be used\n",
        "\n",
        "Output:\n",
        "*   **predicted_label**: predicted label (integer)\n",
        "\n",
        "\n"
      ]
    },
    {
      "cell_type": "code",
      "metadata": {
        "id": "MNXK7L5wpOEa"
      },
      "source": [
        "def predict_knn(x, inputs, labels, k_neighbours):\n",
        "    dists = [np.linalg.norm(x-i) for i in inputs]\n",
        "    enumerated_dist = enumerate(dists)\n",
        "    neighbours = sorted(enumerated_dist, key=lambda x: x[1])[:k_neighbours]\n",
        "    neighbours_label = [labels[i[0]] for i in neighbours]\n",
        "    neighbours_label = [int(x) for x in neighbours_label]\n",
        "\n",
        "    predicted_label = np.argmax(np.bincount(neighbours_label))\n",
        "    return predicted_label"
      ],
      "execution_count": null,
      "outputs": []
    },
    {
      "cell_type": "markdown",
      "metadata": {
        "id": "I7bIamtprLxK"
      },
      "source": [
        "# Function: eval_knn\n",
        "\n",
        "Function that evaluates the accuracy of the KNN classifier on a dataset.  The dataset to be evaluated consists of (inputs, labels).  The dataset used to find nearest neighbours consists of (train_inputs, train_labels).\n",
        "\n",
        "Inputs:\n",
        "*   **inputs**: matrix of input data points to be evaluated (numpy array of N data points x M features)\n",
        "*   **labels**: vector of target labels for the inputs (numpy array of N labels)\n",
        "*   **train_inputs**: matrix of input data points in which neighbours will be found (numpy array of N' data points x M features)\n",
        "*   **train_labels**: vector of labels for the training inputs (numpy array of N' labels)\n",
        "*   **k_neighbours**: # of nearest neighbours to be used (integer)\n",
        "\n",
        "Outputs:\n",
        "*   **accuracy**: percentage of correctly labeled data points (float)\n",
        "\n",
        "\n"
      ]
    },
    {
      "cell_type": "code",
      "metadata": {
        "id": "MCQe7L8XrjdI"
      },
      "source": [
        "def eval_knn(inputs, labels, train_inputs, train_labels, k_neighbours):\n",
        "    predicts = [predict_knn(x, train_inputs, train_labels, k_neighbours) for x in inputs]\n",
        "    correct = 0\n",
        "    for i in range(len(inputs)):\n",
        "        if predicts[i] == labels[i]:\n",
        "            correct += 1\n",
        "    accuracy = correct / float(len(inputs))\n",
        "    return accuracy"
      ],
      "execution_count": null,
      "outputs": []
    },
    {
      "cell_type": "markdown",
      "metadata": {
        "id": "rXNO9nXb1beV"
      },
      "source": [
        "# Function: cross_validation_knn\n",
        "\n",
        "This function performs k-fold cross validation to determine the best number of neighbours for KNN.\n",
        "\n",
        "Inputs:\n",
        "*   **k_folds**: # of folds in cross-validation (integer)\n",
        "*   **hyperparameters**: list of hyperparameters where each hyperparameter is a different # of neighbours (list of integers)\n",
        "*   **inputs**: matrix of data points to be used when searching for neighbours (numpy array of N data points by M features)\n",
        "*   **labels**: vector of labels associated with the inputs (numpy array of N labels)\n",
        "\n",
        "Outputs:\n",
        "*   **best_hyperparam**: best # of neighbours for KNN (integer)\n",
        "*   **best_accuracy**: accuracy achieved with best_hyperparam (float)\n",
        "*   **accuracies**: vector of accuracies for the corresponding hyperparameters (numpy array of floats)\n",
        "\n",
        "\n",
        "\n"
      ]
    },
    {
      "cell_type": "code",
      "metadata": {
        "id": "VpHnYR3x1mFZ"
      },
      "source": [
        "def cross_validation_knn(k_folds, hyperparameters, inputs, labels):\n",
        "    splited_input = np.array_split(inputs, k_folds)\n",
        "    splited_label = np.array_split(labels, k_folds)\n",
        "    best_hyperparam = 0\n",
        "    best_accuracy = 0\n",
        "    accuracies = []\n",
        "    offset = int(len(inputs) / k_folds)\n",
        "    for k_neighbours in hyperparameters:\n",
        "        acc = 0\n",
        "        for i in range(k_folds):\n",
        "            validation_x = splited_input[i]\n",
        "            validation_y = splited_label[i]\n",
        "            train_x = np.concatenate(splited_input[:i] + splited_input[i+1:])\n",
        "            train_y = np.concatenate(splited_label[:i] + splited_label[i+1:])\n",
        "            acc += eval_knn(validation_x, validation_y, train_x, train_y, k_neighbours)\n",
        "        avg_acc = acc / float(k_folds)\n",
        "        accuracies.append(avg_acc)\n",
        "        if (avg_acc > best_accuracy):\n",
        "            best_accuracy = avg_acc\n",
        "            best_hyperparam = k_neighbours\n",
        "\n",
        "    return best_hyperparam, best_accuracy, accuracies"
      ],
      "execution_count": null,
      "outputs": []
    },
    {
      "cell_type": "markdown",
      "metadata": {
        "id": "qb31YTWg4rSm"
      },
      "source": [
        "# Function: plot_knn_accuracies\n",
        "\n",
        "Function that plots the KNN accuracies for different # of neighbours (hyperparameters) based on cross validation\n",
        "\n",
        "Inputs:\n",
        "*   **accuracies**: vector of accuracies for the corresponding hyperparameters (numpy array of floats)\n",
        "*   **hyperparams**: list of hyperparameters where each hyperparameter is a different # of neighbours (list of integers)\n"
      ]
    },
    {
      "cell_type": "code",
      "metadata": {
        "id": "MpbE_-Yt5HiI"
      },
      "source": [
        "def plot_knn_accuracies(accuracies,hyperparams):\n",
        "    plt.plot(hyperparams,accuracies)\n",
        "    plt.ylabel('accuracy')\n",
        "    plt.xlabel('k neighbours')\n",
        "    plt.show()  "
      ],
      "execution_count": null,
      "outputs": []
    },
    {
      "cell_type": "markdown",
      "metadata": {
        "id": "iF2YiZnMaws8"
      },
      "source": [
        "# Main KNN code\n",
        "\n",
        "Load data.\n",
        "Use k-fold cross validation to find the best # of neighbours for KNN.\n",
        "Plot accuracies for different # of neighbours.\n",
        "Test KNN with the best # of neighbours."
      ]
    },
    {
      "cell_type": "code",
      "metadata": {
        "id": "Qw6MLmQ8bpA1",
        "outputId": "24e162be-39bf-4291-a999-8f0f7a58aee6"
      },
      "source": [
        "# load data\n",
        "train_inputs, train_labels, test_inputs, test_labels = load_knn_data()\n",
        "\n",
        "# number of neighbours to be evaluated by cross validation\n",
        "hyperparams = range(1,31)\n",
        "k_folds = 10\n",
        "best_k_neighbours, best_accuracy, accuracies = cross_validation_knn(k_folds, hyperparams, train_inputs, train_labels)\n",
        "\n",
        "# plot results\n",
        "plot_knn_accuracies(accuracies, hyperparams)\n",
        "print('best # of neighbours k: ' + str(best_k_neighbours))\n",
        "print('best cross validation accuracy: ' + str(best_accuracy))\n",
        "\n",
        "# evaluate with best # of neighbours\n",
        "accuracy = eval_knn(test_inputs, test_labels, train_inputs, train_labels, best_k_neighbours)\n",
        "print('test accuracy: '+ str(accuracy))"
      ],
      "execution_count": null,
      "outputs": [
        {
          "data": {
            "image/png": "[encoded data removed]",
            "text/plain": [
              "<Figure size 432x288 with 1 Axes>"
            ]
          },
          "metadata": {
            "needs_background": "light"
          },
          "output_type": "display_data"
        },
        {
          "name": "stdout",
          "output_type": "stream",
          "text": [
            "best # of neighbours k: 12\n",
            "best cross validation accuracy: 0.7919999999999999\n",
            "test accuracy: 0.7545454545454545\n"
          ]
        }
      ]
    },
    {
      "cell_type": "code",
      "metadata": {
        "id": "l9QvDGizGnLc"
      },
      "source": [
        ""
      ],
      "execution_count": null,
      "outputs": []
    },
    {
      "cell_type": "code",
      "metadata": {
        "id": "vSkOwVY1GnLd"
      },
      "source": [
        ""
      ],
      "execution_count": null,
      "outputs": []
    },
    {
      "cell_type": "code",
      "metadata": {
        "id": "a1nT3BN9GnLd"
      },
      "source": [
        ""
      ],
      "execution_count": null,
      "outputs": []
    }
  ]
}