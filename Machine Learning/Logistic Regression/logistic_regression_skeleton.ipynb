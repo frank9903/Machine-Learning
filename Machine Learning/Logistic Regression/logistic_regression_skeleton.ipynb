{
  "nbformat": 4,
  "nbformat_minor": 0,
  "metadata": {
    "colab": {
      "name": "cs480_fall20_asst2_logistic_regression_skeleton.ipynb",
      "provenance": [],
      "collapsed_sections": []
    },
    "kernelspec": {
      "display_name": "Python 3",
      "language": "python",
      "name": "python3"
    },
    "language_info": {
      "codemirror_mode": {
        "name": "ipython",
        "version": 3
      },
      "file_extension": ".py",
      "mimetype": "text/x-python",
      "name": "python",
      "nbconvert_exporter": "python",
      "pygments_lexer": "ipython3",
      "version": "3.8.3"
    }
  },
  "cells": [
    {
      "cell_type": "markdown",
      "metadata": {
        "id": "JFXZug066bJX"
      },
      "source": [
        "# Upload files in Google Colab\n",
        "If you are running this Jupyter Notebook on Google Colab, run this cell to upload the data files (train_inputs.csv, train_targets.csv, test_inputs.csv, test_targets.csv) in the colab virtual machine.  You will be prompted to select files that you would like to upload. \n",
        "\n",
        "If you are running this Jupyter Notebook on your computer, you do not need to run this cell."
      ]
    },
    {
      "cell_type": "code",
      "metadata": {
        "id": "dqBJV_Br4XeI"
      },
      "source": [
        "from google.colab import files\n",
        "uploaded = files.upload()\n",
        "%ls"
      ],
      "execution_count": null,
      "outputs": []
    },
    {
      "cell_type": "markdown",
      "metadata": {
        "id": "LZDpxE4jmFwA"
      },
      "source": [
        "# Import libraries \n",
        "Do not use any other Python library."
      ]
    },
    {
      "cell_type": "code",
      "metadata": {
        "id": "m_1d0BPfmacB"
      },
      "source": [
        "import numpy as np\n",
        "import matplotlib.pyplot as plt"
      ],
      "execution_count": null,
      "outputs": []
    },
    {
      "cell_type": "markdown",
      "metadata": {
        "id": "6keYhcgi7nbf"
      },
      "source": [
        "# Function: load_logistic_regression_data\n",
        "\n",
        "This function loads the data for Logistic Regression from a local drive into RAM\n",
        "\n",
        "Outputs:\n",
        "\n",
        "*   **train_inputs**: numpy array of N training data points x M features\n",
        "*   **train_labels**: numpy array of N training labels\n",
        "*   **test_inputs**: numpy array of N' test data points x M features\n",
        "*   **test_labels**: numpy array of N' test labels"
      ]
    },
    {
      "cell_type": "code",
      "metadata": {
        "id": "vcG5U2lR7utt"
      },
      "source": [
        "def load_logistic_regression_data():\n",
        "    test_inputs = np.genfromtxt('test_inputs.csv', delimiter=',')\n",
        "    test_labels = np.genfromtxt('test_labels.csv', delimiter=',')\n",
        "    train_inputs = np.genfromtxt('train_inputs.csv', delimiter=',')\n",
        "    train_labels = np.genfromtxt('train_labels.csv', delimiter=',')\n",
        "    return train_inputs, train_labels, test_inputs, test_labels"
      ],
      "execution_count": null,
      "outputs": []
    },
    {
      "cell_type": "markdown",
      "metadata": {
        "id": "NZTxUMDM2PDx"
      },
      "source": [
        "# Function: sigmoid\n",
        "\n",
        "This function implements the logistic sigmoid.\n",
        "\n",
        "Input:\n",
        "*   **input**: vector of inputs (numpy array of floats)\n",
        "\n",
        "Output:\n",
        "*   **output**: vector of outputs (numpy array of floats)"
      ]
    },
    {
      "cell_type": "code",
      "metadata": {
        "id": "evR9GYnV3FmM"
      },
      "source": [
        "def sigmoid(input):\n",
        "\n",
        "    output = 1.0 / (1.0 + np.exp(-1.0 * input))\n",
        "    return output"
      ],
      "execution_count": null,
      "outputs": []
    },
    {
      "cell_type": "markdown",
      "metadata": {
        "id": "GwLo3p4f8bTa"
      },
      "source": [
        "# Function: predict_logistic_regression\n",
        "\n",
        "This function uses a vector of weights to make predictions for a set of inputs.  The prediction for each data point is a distribution over the labels.  Assume that there are only two possible labels {0,1}.\n",
        "\n",
        "Inputs:\n",
        "*   **inputs**: matrix of input data points for which we want to make a prediction (numpy array of N data points x M+1 features)\n",
        "*   **weights**: vector of weights (numpy array of M+1 weights)\n",
        "\n",
        "Output:\n",
        "*   **predicted_probabilities**: matrix of predicted probabilities (numpy array of N data points x 2 labels)"
      ]
    },
    {
      "cell_type": "code",
      "metadata": {
        "id": "iX04_wClRqkV"
      },
      "source": [
        "def predict_logistic_regression(inputs, weights):\n",
        "\n",
        "    predicted_probabilities1 = sigmoid(np.matmul(weights, inputs.T)) # 1 * n\n",
        "    predicted_probabilities2 = 1 - np.array(predicted_probabilities1)\n",
        "    predicted_probabilities = np.array([predicted_probabilities1, predicted_probabilities2]).T\n",
        "    return predicted_probabilities"
      ],
      "execution_count": null,
      "outputs": []
    },
    {
      "cell_type": "markdown",
      "metadata": {
        "id": "fmfPN7K0RtQ5"
      },
      "source": [
        "# Function eval_logistic_regression\n",
        "\n",
        "This function evaluates a set of predictions by computing the negative log probabilities of the labels and the accuracy (percentage of correctly predicted labels).  Assume that there are only two possible labels {0,1}.  A data point is correctly labeled when the probability of the target label is >= 0.5.\n",
        "\n",
        "Inputs:\n",
        "*   **inputs**: matrix of input data points for which we will evaluate the predictions (numpy array of N data points x M+1 features)\n",
        "*   **weights**: vector of weights (numpy array of M+1 weights)\n",
        "*   **labels**: vector of target labels associated with the inputs (numpy array of N labels)\n",
        "\n",
        "Outputs:\n",
        "*   **neg_log_prob**: negative log probability of the set of predictions (float)\n",
        "*   **accuracy**: percentage of correctly labeled data points (float)"
      ]
    },
    {
      "cell_type": "code",
      "metadata": {
        "id": "wC14LEsvTxbu"
      },
      "source": [
        "def eval_logistic_regression(inputs, weights, labels):\n",
        "  \n",
        "    predicted = [0 for i in range(len(labels))]\n",
        "    predicted_probabilities = predict_logistic_regression(inputs, weights)\n",
        "    for i in range(len(predicted)):\n",
        "        if (predicted_probabilities[i][0] >= 0.5):\n",
        "            predicted[i] = 1\n",
        "    count = 0\n",
        "    for i in range(len(predicted)):\n",
        "        if (predicted[i] == labels[i]):\n",
        "            count += 1\n",
        "    accuracy = float(count) / len(labels)\n",
        "    \n",
        "    generated = np.log(predicted_probabilities) # n * 2\n",
        "    generated1 = np.matmul(generated[:,0],labels.T)\n",
        "    generated2 = np.matmul(generated[:,1], (1 - np.array(labels)).T)\n",
        "    neg_log_prob = -1 * (generated1 + generated2)\n",
        "    return neg_log_prob, accuracy"
      ],
      "execution_count": null,
      "outputs": []
    },
    {
      "cell_type": "markdown",
      "metadata": {
        "id": "R7hZ4XVP4U4y"
      },
      "source": [
        "Function: initialize_weights\n",
        "\n",
        "This function initializes the weights uniformly at random in the interval [-0.05,0.05]\n",
        "\n",
        "Input:\n",
        "*   **n_weights**: # of weights to be initialized (integer)\n",
        "\n",
        "Output:\n",
        "*   **random_weights**: vector of weights (numpy array of floats)"
      ]
    },
    {
      "cell_type": "code",
      "metadata": {
        "id": "9OjhevpV5FBg"
      },
      "source": [
        "def initialize_weights(n_weights):\n",
        "\n",
        "    random_weights = np.random.uniform(low=-0.05, high=0.05, size=n_weights)\n",
        "    return random_weights"
      ],
      "execution_count": null,
      "outputs": []
    },
    {
      "cell_type": "markdown",
      "metadata": {
        "id": "RMAzC5xXT0H-"
      },
      "source": [
        "# Function train_logistic_regression\n",
        "\n",
        "This function optimizes a set of weights for logistic regression based on a training set.  Initialize the weights with the function initialize_weights.  Implement Newton's algorithm to optimize the weights.  Stop Newton's algorithm when the maximum change for all weights is less than 0.001 in two consecutive iterations. Assume that there are only two labels {0,1}.\n",
        "\n",
        "Inputs:\n",
        "*   **train_inputs**: matrix of input training points (numpy array of N data points x M+1 features)\n",
        "*   **train_labels**: vector of labels associated with the inputs (numpy array of N labels)\n",
        "*   **lambda_hyperparam**: lambda hyperparameter used to adjust the importance of the regularizer (scalar)\n",
        "\n",
        "Output:\n",
        "*   **weights**: vector of weights that have been optimized (numpy array of M+1 weights)\n",
        "\n"
      ]
    },
    {
      "cell_type": "code",
      "metadata": {
        "id": "_DkzoT5QVy41"
      },
      "source": [
        "def train_logistic_regression(train_inputs, train_labels, lambda_hyperparam):\n",
        "\n",
        "    n = train_inputs.shape[0]\n",
        "    m = train_inputs.shape[1]\n",
        "    weights = initialize_weights(m)\n",
        "    while (True):\n",
        "        predicted_probabilities = predict_logistic_regression(train_inputs, weights) # n * 2\n",
        "        R = np.zeros(shape=(n, n))\n",
        "        for i in range(n):\n",
        "            R[i][i] = predicted_probabilities[i][0] * predicted_probabilities[i][1]\n",
        "        H = np.matmul(np.matmul(train_inputs.T, R), train_inputs) + (lambda_hyperparam * np.identity(m))\n",
        "        gradient = np.matmul(predicted_probabilities[:,0] - np.array(train_labels), train_inputs) + (lambda_hyperparam * np.array(weights))\n",
        "        new_weights = weights - np.matmul(np.linalg.inv(H), gradient.T).T\n",
        "        temp = np.max(np.absolute(new_weights - weights))\n",
        "        if (temp < 0.001):\n",
        "            weights = new_weights\n",
        "            break\n",
        "        weights = new_weights\n",
        "        \n",
        "    return weights"
      ],
      "execution_count": null,
      "outputs": []
    },
    {
      "cell_type": "markdown",
      "metadata": {
        "id": "VYIbLxX7V2DW"
      },
      "source": [
        "# Function cross_validation_logistic_regression\n",
        "\n",
        "This function performs k-fold cross validation to determine the best lambda hyperparameter in logistic regression\n",
        "\n",
        "Inputs:\n",
        "*   **k_folds**: # of folds in cross-validation (integer)\n",
        "*   **hyperparameters**: list of hyperparameters where each hyperparameter is a different lambda value (list of floats)\n",
        "*   **inputs**: matrix of input points (numpy array of N data points by M+1 features)\n",
        "*   **labels**: vector of labels associated with the inputs (numpy array of N labels)\n",
        "\n",
        "Outputs:\n",
        "*   **best_hyperparam**: best lambda value for logistic regression (float)\n",
        "*   **best_neg_log_prob**: negative log probabilty achieved with best_hyperparam (float)\n",
        "*   **neg_log_probabilities**: vector of negative log probabilities for the corresponding hyperparameters (numpy array of floats)\n",
        "\n"
      ]
    },
    {
      "cell_type": "code",
      "metadata": {
        "id": "_ZzoiZxLZMcV"
      },
      "source": [
        "def cross_validation_logistic_regression(k_folds, hyperparameters, inputs, labels):\n",
        "    splited_input = np.array_split(inputs, k_folds)\n",
        "    splited_labels = np.array_split(labels, k_folds)\n",
        "    best_hyperparam = 0\n",
        "    best_neg_log_prob = 0\n",
        "    neg_log_probabilities = []\n",
        "    offset = int(len(inputs) / k_folds)\n",
        "    start = True\n",
        "    for lambda_hyperparam in hyperparameters:\n",
        "        temp = 0\n",
        "        for i in range(k_folds):\n",
        "            validation_x = splited_input[i]\n",
        "            validation_y = splited_labels[i]\n",
        "            train_x = np.concatenate(splited_input[:i] + splited_input[i+1:])\n",
        "            train_y = np.concatenate(splited_labels[:i] + splited_labels[i+1:])\n",
        "            weights = train_logistic_regression(train_x, train_y, lambda_hyperparam)\n",
        "            neg_log_prob, accuracy = eval_logistic_regression(validation_x, weights, validation_y)\n",
        "            temp += neg_log_prob\n",
        "        avg_neg_prob = temp / float(k_folds)\n",
        "        neg_log_probabilities.append(avg_neg_prob)\n",
        "        if (start):\n",
        "            best_neg_log_prob = avg_neg_prob\n",
        "            best_hyperparam = lambda_hyperparam\n",
        "            start = False\n",
        "        if (avg_neg_prob < best_neg_log_prob):\n",
        "            best_neg_log_prob = avg_neg_prob\n",
        "            best_hyperparam = lambda_hyperparam\n",
        "            \n",
        "    return best_hyperparam, best_neg_log_prob, neg_log_probabilities"
      ],
      "execution_count": null,
      "outputs": []
    },
    {
      "cell_type": "markdown",
      "metadata": {
        "id": "_ah5AAayZfVU"
      },
      "source": [
        "# Function: plot_logistic_regression_neg_log_probabilities\n",
        "\n",
        "Function that plots the negative log probabilities for different lambda values (hyperparameters) in logistic regression based on cross validation\n",
        "\n",
        "Inputs:\n",
        "*   **neg_log_probabilities**: vector of negative log probabilities for the corresponding hyperparameters (numpy array of floats)\n",
        "*   **hyperparams**: list of hyperparameters where each hyperparameter is a different lambda value (list of floats)"
      ]
    },
    {
      "cell_type": "code",
      "metadata": {
        "id": "dh9qZuzMatsZ"
      },
      "source": [
        "def plot_logistic_regression_neg_log_probabilities(neg_log_probabilities,hyperparams):\n",
        "    plt.plot(hyperparams,neg_log_probabilities)\n",
        "    plt.ylabel('negative log probability')\n",
        "    plt.xlabel('lambda')\n",
        "    plt.show()"
      ],
      "execution_count": null,
      "outputs": []
    },
    {
      "cell_type": "markdown",
      "metadata": {
        "id": "s21LRP5Qb3m8"
      },
      "source": [
        "# Main Logistic Regression code\n",
        "\n",
        "Load data (rescale the inputs to be in the [-1,1] range, add 1 at the end of each datapoint and rename the labels 5,6 to 0,1).\n",
        "Use k-fold cross validation to find the best lambda value for logistic regression.\n",
        "Plot the negative log probabilities for different lambda values.\n",
        "Test logistic regression with the best lambda value."
      ]
    },
    {
      "cell_type": "code",
      "metadata": {
        "id": "njlK2bf7sycQ",
        "outputId": "c9700178-f369-4df5-aff8-426846da1838"
      },
      "source": [
        "# load data\n",
        "train_inputs, train_labels, test_inputs, test_labels = load_logistic_regression_data()\n",
        "\n",
        "# rescale inputs in the [-1,1] range\n",
        "train_inputs = (train_inputs - 8)/8\n",
        "test_inputs = (test_inputs - 8)/8\n",
        "\n",
        "# add 1 at the end of each data point\n",
        "train_inputs = np.concatenate((train_inputs,np.ones((train_inputs.shape[0],1))),1)\n",
        "test_inputs = np.concatenate((test_inputs,np.ones((test_inputs.shape[0],1))),1)\n",
        "\n",
        "# rename the classes 5,6 to 0,1\n",
        "train_labels = train_labels.astype(int) - 5\n",
        "test_labels = test_labels.astype(int) - 5\n",
        "\n",
        "# lambda values to be evaluated by cross validation\n",
        "hyperparams = range(201)\n",
        "k_folds = 10\n",
        "best_lambda, best_neg_log_prob, neg_log_probabilities = cross_validation_logistic_regression(k_folds,hyperparams,train_inputs,train_labels)\n",
        "\n",
        "# plot results\n",
        "plot_logistic_regression_neg_log_probabilities(neg_log_probabilities,hyperparams)\n",
        "print('best lambda: ' + str (best_lambda))\n",
        "print('best cross validation negative log probability: ' + str(best_neg_log_prob))\n",
        "\n",
        "# train and evaluate with best lambda\n",
        "weights = train_logistic_regression(train_inputs,train_labels,best_lambda)\n",
        "neg_log_prob, accuracy = eval_logistic_regression(test_inputs, weights, test_labels)\n",
        "print('test accuracy: ' + str(accuracy))\n",
        "print('test negative log probability: ' + str(neg_log_prob))\n",
        "\n"
      ],
      "execution_count": null,
      "outputs": [
        {
          "data": {
            "image/png": "[encoded data removed]",
            "text/plain": [
              "<Figure size 432x288 with 1 Axes>"
            ]
          },
          "metadata": {
            "needs_background": "light"
          },
          "output_type": "display_data"
        },
        {
          "name": "stdout",
          "output_type": "stream",
          "text": [
            "best lambda: 8\n",
            "best cross validation negative log probability: 37.60806435493545\n",
            "test accuracy: 0.8727272727272727\n",
            "test negative log probability: 33.292030676420076\n"
          ]
        }
      ]
    },
    {
      "cell_type": "markdown",
      "metadata": {
        "id": "2XUanCTcJm3u"
      },
      "source": [
        "Logistic Regression could provide a linear separator while knn could provide a non-linear separator. I would say non-linear separator could be more expressive since the decision boundary for non-linear seperator is more complex, which means that it could result in a larger hypothesis space. Thus non-linear separator could be more expressive. If the data set is linear separable, then linear separator will perform better. Otherwise, non-linear separator will preform better. Compared with A1, knn has lower accuracy that is because knn provide a non-linear separator so it is overfitting. When testing on the test sets, the accuracy could be lower."
      ]
    },
    {
      "cell_type": "code",
      "metadata": {
        "id": "wrrBezlmJm3u",
        "outputId": "f8a5309e-b204-430a-ac22-b79338a46bb5"
      },
      "source": [
        "# train and evaluate with best lambda\n",
        "weights = train_logistic_regression(train_inputs,train_labels,best_lambda)\n",
        "neg_log_prob, accuracy = eval_logistic_regression(test_inputs, weights, test_labels)\n",
        "print('test accuracy: ' + str(accuracy))\n",
        "print('test negative log probability: ' + str(neg_log_prob))\n",
        "\n",
        "predict = predict_logistic_regression(test_inputs, weights)\n",
        "plt.plot([i for i in range(len(test_inputs))],predict[:,0], 'ro')\n",
        "plt.plot([i for i in range(len(test_inputs))],predict[:,1], 'bo')\n",
        "plt.ylabel('predicted')\n",
        "plt.xlabel('i')\n",
        "plt.show()"
      ],
      "execution_count": null,
      "outputs": [
        {
          "name": "stdout",
          "output_type": "stream",
          "text": [
            "test accuracy: 0.8727272727272727\n",
            "test negative log probability: 33.292030647419566\n"
          ]
        },
        {
          "data": {
            "image/png": "[encoded data removed]",
            "text/plain": [
              "<Figure size 432x288 with 1 Axes>"
            ]
          },
          "metadata": {
            "needs_background": "light"
          },
          "output_type": "display_data"
        }
      ]
    },
    {
      "cell_type": "markdown",
      "metadata": {
        "id": "Rzj_wZMKJm3v"
      },
      "source": [
        "The data set is not linear seperable. If the data is linear separable, the weight trained by the training data should also fit the test data set. So if the data is linear separable, the test accuracy should be relatively high. However, the current test accuracy is only 0.87 which is still relatively low. So the data is not linear separable.\n",
        "According to the diagram above, the training set is not linear separable since there is no linear separator to separate two classes."
      ]
    },
    {
      "cell_type": "code",
      "metadata": {
        "id": "1YrNfD3jJm3v"
      },
      "source": [
        ""
      ],
      "execution_count": null,
      "outputs": []
    }
  ]
}